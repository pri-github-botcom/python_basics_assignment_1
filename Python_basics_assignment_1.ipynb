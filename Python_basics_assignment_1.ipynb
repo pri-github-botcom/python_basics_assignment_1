{
  "nbformat": 4,
  "nbformat_minor": 0,
  "metadata": {
    "colab": {
      "provenance": []
    },
    "kernelspec": {
      "name": "python3",
      "display_name": "Python 3"
    },
    "language_info": {
      "name": "python"
    }
  },
  "cells": [
    {
      "cell_type": "markdown",
      "source": [
        "#1)  Explain the key features of Python that make it a popular choice of programming.\n",
        "## There are so many unique features of Pythonthat makes it perfect choice for programming. Such as;\n",
        "\n",
        "### 1) Widely used in data industry:- Due to Python's dynamic nature, its approachis vast and universal.\n",
        "2) Easy to code:- Python is very used to learn as compared to other programming languages. Anyone can learn Python in a very short span of time and code. It is very developer friendly.\n",
        "\n",
        "3) Simple syntax:- Python syntax is really simple and straight forward, which is very user friendly.\n",
        "\n",
        "4) Vast number of liberaries in Python:- There is a very large numbe of liberaries available in Python. The total number of python are more than 137000 liberaries.\n",
        "\n",
        "5)Automation:- Python's simplicity makes it ideal language for automating repititive tasks.\n",
        "\n",
        "6)Huge active community:- Python has a huge and active community, which makes it easy to find support.\n",
        "\n",
        "7)Versatility:- Python supports multiple programming paradigms, including procedural, object-oriented and functionalprogramming.\n",
        "\n",
        "8)Interpreted language:- Python i interpreted language, which means code is executed line by line, allowing for quick testing and debugging.\n",
        "\n"
      ],
      "metadata": {
        "id": "-QMvmnCYV_pB"
      }
    },
    {
      "cell_type": "markdown",
      "source": [
        "\n",
        "\n",
        "\n",
        "\n",
        "\n",
        "\n",
        "#2)  Describe the role of predefined keywords in python and provide examples of how they used in a program?\n",
        "\n",
        "## In python predefined keywords are reserved words that have special meanings and cannot be used as identifiers (such as variable names, function names). These keywords are part of the python syntax and define the structure and flow of python programs. There are currently 36 predefined keywords in python including words like if, else, while, for etc.\n",
        "some characterstics of predefined keywords are:-\n",
        "1) Reserved:- keywords cannot used for any other purpose than their intended one.\n",
        " 2) case-sensitive:- all keywords are lowercase with some exceptions.\n",
        " 3)Syntax defining:- They help define control structures, functions, classes, and exceptions.\n",
        " Examples of python keywords are:=\n",
        "\n",
        " # if-else :"
      ],
      "metadata": {
        "id": "9-mXCYiOtX64"
      }
    },
    {
      "cell_type": "code",
      "source": [
        "x =10\n",
        "if x>5:\n",
        "  print (\"x is greater than 5\")\n",
        "else:\n",
        "    print (\"x is less than or equal to 5\")"
      ],
      "metadata": {
        "colab": {
          "base_uri": "https://localhost:8080/"
        },
        "id": "0SQOF7HFI5oJ",
        "outputId": "57be371a-a2fd-4a6f-efcf-f5c638029720"
      },
      "execution_count": 5,
      "outputs": [
        {
          "output_type": "stream",
          "name": "stdout",
          "text": [
            "x is greater than 5\n"
          ]
        }
      ]
    },
    {
      "cell_type": "markdown",
      "source": [
        "## for :"
      ],
      "metadata": {
        "id": "VQRw-CaVKID1"
      }
    },
    {
      "cell_type": "code",
      "source": [
        "numbers = [1,2,3,4,5]\n",
        "for number in numbers:\n",
        "  print (number)"
      ],
      "metadata": {
        "colab": {
          "base_uri": "https://localhost:8080/"
        },
        "id": "9rKgGKktJnJ6",
        "outputId": "c20586de-9704-41da-83ab-14ebaadc88ff"
      },
      "execution_count": 6,
      "outputs": [
        {
          "output_type": "stream",
          "name": "stdout",
          "text": [
            "1\n",
            "2\n",
            "3\n",
            "4\n",
            "5\n"
          ]
        }
      ]
    },
    {
      "cell_type": "markdown",
      "source": [
        "## true, false, none:\n"
      ],
      "metadata": {
        "id": "qHig6SvfLCnH"
      }
    },
    {
      "cell_type": "code",
      "source": [
        "a= True\n",
        "b= False\n",
        "c= None\n",
        "print(a,b,c)"
      ],
      "metadata": {
        "colab": {
          "base_uri": "https://localhost:8080/"
        },
        "id": "kppRcaSgL0Yd",
        "outputId": "e14432a4-01ee-4828-f8ce-3deee52b001f"
      },
      "execution_count": 7,
      "outputs": [
        {
          "output_type": "stream",
          "name": "stdout",
          "text": [
            "True False None\n"
          ]
        }
      ]
    },
    {
      "cell_type": "markdown",
      "source": [
        "## and, or, not\n"
      ],
      "metadata": {
        "id": "FTvmH1jHMYOs"
      }
    },
    {
      "cell_type": "code",
      "source": [
        "x= True\n",
        "y= False\n",
        "print (x and y)\n",
        "print (x or y)\n",
        "print (not x)"
      ],
      "metadata": {
        "colab": {
          "base_uri": "https://localhost:8080/"
        },
        "id": "qLAj1BhvMmsF",
        "outputId": "83e2a260-ba1e-486d-d0ee-bc7304301903"
      },
      "execution_count": 9,
      "outputs": [
        {
          "output_type": "stream",
          "name": "stdout",
          "text": [
            "False\n",
            "True\n",
            "False\n"
          ]
        }
      ]
    },
    {
      "cell_type": "markdown",
      "source": [
        "##  while:"
      ],
      "metadata": {
        "id": "8FSBZvXPOUUh"
      }
    },
    {
      "cell_type": "code",
      "source": [
        "n= 5\n",
        "i=1\n",
        "while i<n:\n",
        "  print (i)\n",
        "  i=i+1"
      ],
      "metadata": {
        "colab": {
          "base_uri": "https://localhost:8080/"
        },
        "id": "ksrUtK8iPTuh",
        "outputId": "830ad726-6568-4f44-dcb1-bcd169a7a706"
      },
      "execution_count": 11,
      "outputs": [
        {
          "output_type": "stream",
          "name": "stdout",
          "text": [
            "1\n",
            "2\n",
            "3\n",
            "4\n"
          ]
        }
      ]
    },
    {
      "cell_type": "markdown",
      "source": [
        "\n",
        "\n",
        "\n",
        "\n",
        "\n",
        "\n",
        "\n",
        "\n",
        "\n",
        "\n",
        "# 3) comapare and contras mutable and immutable objects in python with example.\n",
        "\n",
        "### Mutable Objects:- In python programming language, whenever an object is susceptible to internal change or the ability to change its values is known as a mutable object. Mutable objects in python are generally changed after creation.\n",
        "for mutable objects in python, their values can be changed but the identity of the object remains intact. The objects in python which are mutable are;\n",
        "lists\n",
        "dicts\n",
        "sets\n",
        "user-defined classes\n",
        "dictionaries\n",
        "\n",
        "##example of mutable objects:- lists\n"
      ],
      "metadata": {
        "id": "YNCPajzjQaMT"
      }
    },
    {
      "cell_type": "code",
      "source": [
        "my_list = [1,2,3,4,5]\n",
        "my_list.append (6)\n",
        "print(\"After appending 6:\",my_list)\n",
        "my_list[1] = 100\n",
        "print (\"After changing second element:\", my_list)"
      ],
      "metadata": {
        "colab": {
          "base_uri": "https://localhost:8080/"
        },
        "id": "cQxjDqfYcIFB",
        "outputId": "48060503-1f34-46dc-c34c-71177c21e33e"
      },
      "execution_count": 18,
      "outputs": [
        {
          "output_type": "stream",
          "name": "stdout",
          "text": [
            "After appending 6: [1, 2, 3, 4, 5, 6]\n",
            "After changing second element: [1, 100, 3, 4, 5, 6]\n"
          ]
        }
      ]
    },
    {
      "cell_type": "markdown",
      "source": [
        "## Immutable objects:- The objects in python are not susceptible to the internal changeare known as the immutable objects. They cannot be modified once they are created. For example int in python is immutable hence they cannot be modified once created.\n",
        "objects in python which are immutable are;\n",
        "int,\n",
        "float,\n",
        "bool,\n",
        "string,\n",
        "unicode,\n",
        "tuple,\n",
        "numbers,\n",
        "user-defined classes\n",
        "\n",
        "## examples of immutable objects in python:-\n",
        "tuple\n",
        "\n",
        "\n",
        "\n",
        "\n",
        "\n"
      ],
      "metadata": {
        "id": "-dhuPX-3dxQb"
      }
    },
    {
      "cell_type": "markdown",
      "source": [
        "\n",
        "\n",
        "\n",
        "\n",
        "\n",
        "\n",
        "\n",
        "\n",
        "\n",
        "#4) Discusss the different operators in Python and provide examples of how they are used?\n",
        "\n",
        "\n",
        "## Python supports a variety of operators that allow user to perform different operations on variables and values. Some main type of operators are:=\n",
        "### 1) Arithmatic operators:- Arithmatic operators are used to perform mathematical operations. As;\n",
        "+ addition,\n",
        "- substraction,\n",
        "* multiplication,\n",
        "/ division,\n",
        "// floor division,\n",
        "% modulus(remainder),\n",
        "** exponentiation,\n",
        "##example:\n",
        "\n",
        "\n"
      ],
      "metadata": {
        "id": "fbh-BKvaiShH"
      }
    },
    {
      "cell_type": "code",
      "source": [
        "a=5\n",
        "b=3\n",
        "print(a+b)\n",
        "print(a*b)"
      ],
      "metadata": {
        "colab": {
          "base_uri": "https://localhost:8080/"
        },
        "id": "LR6IOkK1k9E9",
        "outputId": "5ee0f796-1b00-42cb-c071-24f56eefc380"
      },
      "execution_count": 19,
      "outputs": [
        {
          "output_type": "stream",
          "name": "stdout",
          "text": [
            "8\n",
            "15\n"
          ]
        }
      ]
    },
    {
      "cell_type": "markdown",
      "source": [
        "### 2) Comparision operators:= comparision operators are used to compare two values. They return either True or False. As:\n",
        "== equal to,\n",
        "!= not equal to,\n",
        "> greater than,\n",
        "> less than,\n",
        ">= greater than or equal,\n",
        "<= less than or equal\n",
        "\n",
        "## example:\n"
      ],
      "metadata": {
        "id": "Hpg8TWz0lUnd"
      }
    },
    {
      "cell_type": "code",
      "source": [
        "a=5\n",
        "b=3\n",
        "print(a>b)"
      ],
      "metadata": {
        "colab": {
          "base_uri": "https://localhost:8080/"
        },
        "id": "dTdZnTYcnCdC",
        "outputId": "184668ef-e466-4741-f13a-820306f2f894"
      },
      "execution_count": 20,
      "outputs": [
        {
          "output_type": "stream",
          "name": "stdout",
          "text": [
            "True\n"
          ]
        }
      ]
    },
    {
      "cell_type": "markdown",
      "source": [
        "### 3) Logical operators:= Logical operators used to combine conditional statements.as;\n",
        "and; Logical AND (True and False= False),\n",
        "or; Logical OR (True or False= False),\n",
        "not; Logical NOT (not True= False)\n",
        "\n",
        "## example;\n",
        "\n"
      ],
      "metadata": {
        "id": "ptcoaGGCnVQa"
      }
    },
    {
      "cell_type": "code",
      "source": [
        "a=True\n",
        "b=False\n",
        "print(a and b)\n",
        "print(a or b)"
      ],
      "metadata": {
        "colab": {
          "base_uri": "https://localhost:8080/"
        },
        "id": "bdlUKyu2ogQn",
        "outputId": "acb2bce3-49ec-4653-f51b-3b9a737d0a01"
      },
      "execution_count": 21,
      "outputs": [
        {
          "output_type": "stream",
          "name": "stdout",
          "text": [
            "False\n",
            "True\n"
          ]
        }
      ]
    },
    {
      "cell_type": "markdown",
      "source": [
        "### 4) Assignment operators:= Assignment operators used to assign values to variables. As;\n",
        "= assign,\n",
        "+= add and assign,\n",
        "-= substract and assign,\n",
        "*= multiply and assign,\n",
        "/= divide and assign,\n",
        "//= floor divide and assign,\n",
        "%= modulus and assign,\n",
        "**= exponent and design\n",
        "\n",
        "## example;\n"
      ],
      "metadata": {
        "id": "PLMyPzpso2ib"
      }
    },
    {
      "cell_type": "code",
      "source": [
        "x=10\n",
        "x+=5\n",
        "print(x)"
      ],
      "metadata": {
        "colab": {
          "base_uri": "https://localhost:8080/"
        },
        "id": "lbjozVXcp4Vc",
        "outputId": "e84cc197-b42d-48c3-e70a-67514a800e17"
      },
      "execution_count": 22,
      "outputs": [
        {
          "output_type": "stream",
          "name": "stdout",
          "text": [
            "15\n"
          ]
        }
      ]
    },
    {
      "cell_type": "markdown",
      "source": [
        "## 5)Bitwise operators:= Bitwise operators operate on bits and perform bit-by-bit operations.As;\n",
        "& Bitwise AND,\n",
        "' Bitwise OR,\n",
        "^ Bitwise XOR,\n",
        "~ Bitwise NOT,\n",
        "<< Left shift,\n",
        ">> Right shift\n",
        "\n",
        "## example;\n"
      ],
      "metadata": {
        "id": "EAdCcDO1qKUl"
      }
    },
    {
      "cell_type": "code",
      "source": [
        "a=5\n",
        "b=3\n",
        "print(a&b)"
      ],
      "metadata": {
        "colab": {
          "base_uri": "https://localhost:8080/"
        },
        "id": "eJlFeDvzrNHG",
        "outputId": "f60860e4-942d-4be6-c049-542163747206"
      },
      "execution_count": 23,
      "outputs": [
        {
          "output_type": "stream",
          "name": "stdout",
          "text": [
            "1\n"
          ]
        }
      ]
    },
    {
      "cell_type": "markdown",
      "source": [
        "## 6) Identity operators:= Identity operators used to compare the memory locations of two objects. As;\n",
        "is- returns True if both variables point to the same object.\n",
        "\n",
        "is not- returns True if both variables point to different objects.\n",
        "\n",
        "## Example;\n",
        "\n"
      ],
      "metadata": {
        "id": "9AsdX2dvrbQm"
      }
    },
    {
      "cell_type": "code",
      "source": [
        "x=[1,2,3]\n",
        "y=x\n",
        "print(x is y)\n",
        "z=[1,2,3]\n",
        "print(x is z)\n"
      ],
      "metadata": {
        "colab": {
          "base_uri": "https://localhost:8080/"
        },
        "id": "1moglpFVshRu",
        "outputId": "de3390b1-d066-45bc-ccf2-8c8845efee14"
      },
      "execution_count": 24,
      "outputs": [
        {
          "output_type": "stream",
          "name": "stdout",
          "text": [
            "True\n",
            "False\n"
          ]
        }
      ]
    },
    {
      "cell_type": "markdown",
      "source": [
        "## 7) Membership operators:= Membership operators used to test if a sequence contains a value. As;\n",
        "in- returns True if a value is found in a sequence.\n",
        "\n",
        "not in- returns True if a value is not found in a sequence.\n",
        "\n",
        "## Example;\n"
      ],
      "metadata": {
        "id": "SssvASCltQMS"
      }
    },
    {
      "cell_type": "code",
      "source": [
        "a=\"Hello\"\n",
        "print('H' in a)\n",
        "print('z' not in a)"
      ],
      "metadata": {
        "colab": {
          "base_uri": "https://localhost:8080/"
        },
        "id": "yJqOUiuuuEfi",
        "outputId": "63066fa8-5b25-4d46-e833-a045582ed0bf"
      },
      "execution_count": 25,
      "outputs": [
        {
          "output_type": "stream",
          "name": "stdout",
          "text": [
            "True\n",
            "True\n"
          ]
        }
      ]
    },
    {
      "cell_type": "markdown",
      "source": [
        "\n",
        "\n",
        "\n",
        "\n",
        "\n",
        "\n",
        "\n",
        "\n",
        "\n",
        "#5) Explain the concept of type casting in python with examples.\n",
        "## Type casting also known as type conversion in python is the process of converting a variable from one data type to another. Python provides two types of type casting:\n",
        "### 1) IMPLICIT TYPECASTING:= The Python interpreter automatically converts one data type to another without the user's intervention.\n",
        "Example;\n"
      ],
      "metadata": {
        "id": "OpKo7MdPuiW6"
      }
    },
    {
      "cell_type": "code",
      "source": [
        "num_int= 10\n",
        "num_float= 3.5\n",
        "result= num_int + num_float\n",
        "print(result)\n",
        "print(type(result))"
      ],
      "metadata": {
        "colab": {
          "base_uri": "https://localhost:8080/"
        },
        "id": "0hEMhSj7w-hb",
        "outputId": "0bfebeee-4b95-4a1c-8e0b-6a1b44b203bd"
      },
      "execution_count": 26,
      "outputs": [
        {
          "output_type": "stream",
          "name": "stdout",
          "text": [
            "13.5\n",
            "<class 'float'>\n"
          ]
        }
      ]
    },
    {
      "cell_type": "markdown",
      "source": [
        "###EXPLICIT TYPE CASTING:= The user manually converts one data type into another using built-in function. As;\n",
        "int(): converts a value into an integer.\n",
        "\n",
        "float(): converts a value to a float.\n",
        "\n",
        "str(): converts a value to a string.\n",
        "\n",
        "lists(): converts a value to a list.\n",
        "\n",
        "tuple(): converts a value to a tuple.\n",
        "\n",
        " Example;\n",
        "\n",
        "\n",
        "\n",
        "\n"
      ],
      "metadata": {
        "id": "3berpSS9xqRT"
      }
    },
    {
      "cell_type": "code",
      "source": [
        "num_str= 100\n",
        "num_int= int(num_str)\n",
        "print(num_int)\n",
        "print(type(num_str))"
      ],
      "metadata": {
        "colab": {
          "base_uri": "https://localhost:8080/"
        },
        "id": "Sh_WEaMZzxIb",
        "outputId": "5c11cb39-31c0-408b-b576-f515eddc66da"
      },
      "execution_count": 29,
      "outputs": [
        {
          "output_type": "stream",
          "name": "stdout",
          "text": [
            "100\n",
            "<class 'int'>\n"
          ]
        }
      ]
    },
    {
      "cell_type": "code",
      "source": [
        "my_list= [1,2,3]\n",
        "my_tuple = tuple(my_list)\n",
        "print(my_tuple)\n",
        "print(type(my_tuple))"
      ],
      "metadata": {
        "colab": {
          "base_uri": "https://localhost:8080/"
        },
        "id": "1l-2tejC0Xid",
        "outputId": "582a445d-264c-4c97-f723-00758bdc0c56"
      },
      "execution_count": 33,
      "outputs": [
        {
          "output_type": "stream",
          "name": "stdout",
          "text": [
            "(1, 2, 3)\n",
            "<class 'tuple'>\n"
          ]
        }
      ]
    },
    {
      "cell_type": "markdown",
      "source": [
        "\n",
        "\n",
        "\n",
        "\n",
        "\n",
        "\n",
        "\n",
        "\n",
        "\n",
        "#6) How do conditional statements works in python?\n",
        "\n",
        "## In python, conditional statements allow user to execute code based on specific conditions.These statements are primarily controlled by the if, else, elif keywords.\n",
        "### 1) if statement:= This is used to test a condition is true, the indented code back is executed.\n"
      ],
      "metadata": {
        "id": "HS3691ab3Tqw"
      }
    },
    {
      "cell_type": "code",
      "source": [
        "age=20\n",
        "if age>=18:\n",
        "  print(\"you are an adult\")"
      ],
      "metadata": {
        "colab": {
          "base_uri": "https://localhost:8080/"
        },
        "id": "8awosTCqEK_G",
        "outputId": "511d1ee6-b881-4f21-8c72-37cd17515935"
      },
      "execution_count": 34,
      "outputs": [
        {
          "output_type": "stream",
          "name": "stdout",
          "text": [
            "you are an adult\n"
          ]
        }
      ]
    },
    {
      "cell_type": "markdown",
      "source": [
        "2) if-else statement:= The else block is executed when the if condition is true.\n"
      ],
      "metadata": {
        "id": "_lYhK9xaEfV9"
      }
    },
    {
      "cell_type": "code",
      "source": [
        "age=15\n",
        "if age >= 18:\n",
        "  print(\"you are an adult.\")\n",
        "else:\n",
        "  print(\"you are a minor.\")"
      ],
      "metadata": {
        "colab": {
          "base_uri": "https://localhost:8080/"
        },
        "id": "xPHCdeFcFBX8",
        "outputId": "ea890955-a55c-430b-f22c-58a0d7738366"
      },
      "execution_count": 36,
      "outputs": [
        {
          "output_type": "stream",
          "name": "stdout",
          "text": [
            "you are a minor.\n"
          ]
        }
      ]
    },
    {
      "cell_type": "markdown",
      "source": [
        "### 3) if-elif-else statement:- This allows user to check multiple conditions. once a condition is true, the corrospondingcode is executed, and the rest is skipped.\n"
      ],
      "metadata": {
        "id": "pIwZJyh_FySM"
      }
    },
    {
      "cell_type": "code",
      "source": [
        "marks=75\n",
        "if marks>= 90:\n",
        "  print(\"Grade A\")\n",
        "elif marks>=75:\n",
        "  print(\"Grade B\")\n",
        "elif marks>=60:\n",
        "  print(\"Grade C\")\n",
        "else:\n",
        "  print(\"Grade D\")"
      ],
      "metadata": {
        "colab": {
          "base_uri": "https://localhost:8080/"
        },
        "id": "XEaBSwf8GWh_",
        "outputId": "309c3ad8-f806-4933-e669-9667c775bdde"
      },
      "execution_count": 37,
      "outputs": [
        {
          "output_type": "stream",
          "name": "stdout",
          "text": [
            "Grade B\n"
          ]
        }
      ]
    },
    {
      "cell_type": "markdown",
      "source": [
        "### 4) Nested if statement:= User can nest if statement inside other if statements to handle more complex conditions.\n"
      ],
      "metadata": {
        "id": "S8q37GLMHtRZ"
      }
    },
    {
      "cell_type": "code",
      "source": [
        "age= 20\n",
        "has_id =True\n",
        "if age >=18:\n",
        "  if has_id:\n",
        "    print(\"You can enter the club.\")\n",
        "else:\n",
        "  print(\"ID is required.\")\n",
        "  if age < 18:\n",
        "    print(\"You are too young to enter.\")"
      ],
      "metadata": {
        "colab": {
          "base_uri": "https://localhost:8080/"
        },
        "id": "OONILENlIHIH",
        "outputId": "c3a80255-dcec-4147-fc81-e5865b93e6bf"
      },
      "execution_count": 46,
      "outputs": [
        {
          "output_type": "stream",
          "name": "stdout",
          "text": [
            "You can enter the club.\n"
          ]
        }
      ]
    },
    {
      "cell_type": "markdown",
      "source": [
        "\n",
        "\n",
        "\n",
        "\n",
        "\n",
        "\n",
        "\n",
        "\n",
        "\n",
        "#7) Describe the different types of loops in Python and their use cases with examples.\n",
        "## In Python, there are two primarytypes of loops. Each has its own use cases depending on the situation.\n",
        "\n",
        "### 1) for loop:- A for loop is used for iterating over a sequence (like a list, tuple, dictionary, set, or string). It is generally used when the number of iterationis known beforehand.\n",
        "Example;\n"
      ],
      "metadata": {
        "id": "uBaiduCEKtt9"
      }
    },
    {
      "cell_type": "code",
      "source": [
        "fruits= [\"apple\", \"banana\", \"cherry\"]\n",
        "for fruit in fruits:\n",
        "  print (fruit)"
      ],
      "metadata": {
        "colab": {
          "base_uri": "https://localhost:8080/"
        },
        "id": "vzCuVe2DNV8U",
        "outputId": "7203976a-09fc-48c4-e429-71c5d38e0d46"
      },
      "execution_count": 48,
      "outputs": [
        {
          "output_type": "stream",
          "name": "stdout",
          "text": [
            "apple\n",
            "banana\n",
            "cherry\n"
          ]
        }
      ]
    },
    {
      "cell_type": "code",
      "source": [
        "for i in range (5):\n",
        "  print(i)"
      ],
      "metadata": {
        "colab": {
          "base_uri": "https://localhost:8080/"
        },
        "id": "pLHln9xcOQhk",
        "outputId": "12db2142-01b7-44a1-db1a-9a68c1838ab7"
      },
      "execution_count": 49,
      "outputs": [
        {
          "output_type": "stream",
          "name": "stdout",
          "text": [
            "0\n",
            "1\n",
            "2\n",
            "3\n",
            "4\n"
          ]
        }
      ]
    },
    {
      "cell_type": "markdown",
      "source": [
        "2) while loop:- A while loop is used when user want to repeat a block of code as long as a condition is true. This is typically used when the number of iterations is not known in advance.\n",
        "\n",
        "Example;\n",
        "\n"
      ],
      "metadata": {
        "id": "5l1tRR-POkUA"
      }
    },
    {
      "cell_type": "code",
      "source": [
        "count=5\n",
        "while count>0:\n",
        "  print(count)\n",
        "  count-= 1"
      ],
      "metadata": {
        "colab": {
          "base_uri": "https://localhost:8080/"
        },
        "id": "baPizLP9PTh7",
        "outputId": "01e8ce87-6e1f-44bf-fd08-f540fa6dc349"
      },
      "execution_count": 50,
      "outputs": [
        {
          "output_type": "stream",
          "name": "stdout",
          "text": [
            "5\n",
            "4\n",
            "3\n",
            "2\n",
            "1\n"
          ]
        }
      ]
    },
    {
      "cell_type": "markdown",
      "source": [
        "3) break statement in loops:- The break statement is used toexit a loop prematurly.\n",
        "\n",
        "Example;\n"
      ],
      "metadata": {
        "id": "e0oSKZYVP5j9"
      }
    },
    {
      "cell_type": "code",
      "source": [
        "for i in range(10):\n",
        "  if i==8:\n",
        "    break\n",
        "  print(i)\n"
      ],
      "metadata": {
        "colab": {
          "base_uri": "https://localhost:8080/"
        },
        "id": "mn1BvOaPQUYl",
        "outputId": "dd81db12-cfc6-4d96-e783-69f2412d0fb1"
      },
      "execution_count": 55,
      "outputs": [
        {
          "output_type": "stream",
          "name": "stdout",
          "text": [
            "0\n",
            "1\n",
            "2\n",
            "3\n",
            "4\n",
            "5\n",
            "6\n",
            "7\n"
          ]
        }
      ]
    },
    {
      "cell_type": "markdown",
      "source": [
        "4) continue statement in loop:- The continue statement skips the rest of the current iteration and moves to the rest one.\n",
        "\n",
        "Example;\n"
      ],
      "metadata": {
        "id": "mfH-snEpRQOg"
      }
    },
    {
      "cell_type": "code",
      "source": [
        "for i in range(10):\n",
        "  if i == 2:\n",
        "    continue\n",
        "  print(i)"
      ],
      "metadata": {
        "colab": {
          "base_uri": "https://localhost:8080/"
        },
        "id": "wxc9BxKvRvr2",
        "outputId": "4f1c3b62-aace-4d18-fc2b-434d64282952"
      },
      "execution_count": 59,
      "outputs": [
        {
          "output_type": "stream",
          "name": "stdout",
          "text": [
            "0\n",
            "1\n",
            "3\n",
            "4\n",
            "5\n",
            "6\n",
            "7\n",
            "8\n",
            "9\n"
          ]
        }
      ]
    },
    {
      "cell_type": "markdown",
      "source": [
        "5)  else clause in loops:- The continue statement skips the rest of the current iteration and moves to the next one.\n",
        "\n",
        "Example;\n"
      ],
      "metadata": {
        "id": "RVm7vTxISwEW"
      }
    },
    {
      "cell_type": "code",
      "source": [
        "for i in range (5):\n",
        "  print(i)\n",
        "else:\n",
        "  print(\"loop completed\")"
      ],
      "metadata": {
        "colab": {
          "base_uri": "https://localhost:8080/"
        },
        "id": "rKH2wLt0TpnE",
        "outputId": "dc495b04-a797-4206-d979-e383916959fd"
      },
      "execution_count": 60,
      "outputs": [
        {
          "output_type": "stream",
          "name": "stdout",
          "text": [
            "0\n",
            "1\n",
            "2\n",
            "3\n",
            "4\n",
            "loop completed\n"
          ]
        }
      ]
    },
    {
      "cell_type": "markdown",
      "source": [
        "6) Nested loops:- You can have loops inside loops( both for and while). These are known as nested loops.\n",
        "\n",
        "Example;\n"
      ],
      "metadata": {
        "id": "vdsDasd6UJR5"
      }
    },
    {
      "cell_type": "code",
      "source": [
        "for i in range(3):\n",
        "    for j in range (2):\n",
        "       print (f\"i={i}, j={j}\")"
      ],
      "metadata": {
        "colab": {
          "base_uri": "https://localhost:8080/"
        },
        "id": "d6mTdyB8UihP",
        "outputId": "c058b3a5-f926-4c2f-de17-d53d6a6c2c9c"
      },
      "execution_count": 62,
      "outputs": [
        {
          "output_type": "stream",
          "name": "stdout",
          "text": [
            "i=0, j=0\n",
            "i=0, j=1\n",
            "i=1, j=0\n",
            "i=1, j=1\n",
            "i=2, j=0\n",
            "i=2, j=1\n"
          ]
        }
      ]
    },
    {
      "cell_type": "code",
      "source": [],
      "metadata": {
        "id": "cocu_eL3VKXB"
      },
      "execution_count": null,
      "outputs": []
    }
  ]
}